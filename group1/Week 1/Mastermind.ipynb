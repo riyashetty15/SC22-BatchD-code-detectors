{
 "cells": [
  {
   "cell_type": "markdown",
   "metadata": {
    "collapsed": false,
    "id": "FIl5ePMRnNbH"
   },
   "source": [
    "# Welcome to **MASTERMIND**\n",
    "\n",
    "Today we will be creating Mastermind, a classic game similar to Wordle. The steps of Mastermind are as follows:\n",
    "\n",
    "*   The computer plays first by setting a 4-digit number.\n",
    "*   The user now tries their first attempt at guessing the number.\n",
    "*   If the user succeeds in their first attempt (despite odds which are highly unlikely) they win the game and is crowned Mastermind! If not, then the computer hints by revealing which digits or numbers the user got correct.\n",
    "*   The game continues till the user eventually is able to guess the number entirely.\n",
    "\n",
    "\n"
   ]
  },
  {
   "cell_type": "markdown",
   "metadata": {
    "collapsed": false,
    "id": "PyCFDcrEGhpg"
   },
   "source": [
    "## Some Python Background: Typecasting & Strings\n",
    "In this project, we will most likely use some typecasting. This is where you convert (or *cast*) a piece of data to a certain data type, such as a string or integer. Some of the code below could be useful for you on this project. "
   ]
  },
  {
   "cell_type": "code",
   "execution_count": 49,
   "metadata": {
    "collapsed": false
   },
   "outputs": [
   ],
   "source": [
    "import numpy as np"
   ]
  },
  {
   "cell_type": "code",
   "execution_count": 1,
   "metadata": {
    "colab": {
     "base_uri": "https://localhost:8080/"
    },
    "collapsed": false,
    "id": "MJ2biGAUG77u",
    "outputId": "9b0571f0-f867-4fac-e2bf-84fec90378bb"
   },
   "outputs": [
    {
     "name": "stdout",
     "output_type": "stream",
     "text": [
      "my_decimal: 150000.0\n"
     ]
    }
   ],
   "source": [
    "#start with a decimal\n",
    "my_decimal = 150000.0\n",
    "print(\"my_decimal:\", my_decimal)\n"
   ]
  },
  {
   "cell_type": "markdown",
   "metadata": {
    "collapsed": false,
    "id": "Q3-oqvm8H6fI"
   },
   "source": [
    "Typecasting lets us convert a piece of data to a different data type. "
   ]
  },
  {
   "cell_type": "code",
   "execution_count": 0,
   "metadata": {
    "colab": {
     "base_uri": "https://localhost:8080/"
    },
    "collapsed": false,
    "id": "6GbIe7mMHeOz",
    "outputId": "9cfb5b3d-61ab-4f36-a9a8-866849e6be80"
   },
   "outputs": [
    {
     "name": "stdout",
     "output_type": "stream",
     "text": [
      "number: 150000\n"
     ]
    }
   ],
   "source": [
    "my_integer = int(my_decimal) #convert the decimal into an integer\n",
    "print(\"my_integer:\", my_integer)"
   ]
  },
  {
   "cell_type": "markdown",
   "metadata": {
    "collapsed": false,
    "id": "86uGwcGTH_Hb"
   },
   "source": [
    "We may want to convert to different data types for processing data. Strings are one way to process numbers digit by digit."
   ]
  },
  {
   "cell_type": "code",
   "execution_count": 0,
   "metadata": {
    "colab": {
     "base_uri": "https://localhost:8080/"
    },
    "collapsed": false,
    "id": "5U_EISMqHeG0",
    "outputId": "b527d926-d35e-4484-8707-19f6eb82e619"
   },
   "outputs": [
    {
     "name": "stdout",
     "output_type": "stream",
     "text": [
      "string_number: 150000\n"
     ]
    }
   ],
   "source": [
    "my_string = str(my_integer) #convert the integer into a string.\n",
    "print(\"string_number:\", my_string)"
   ]
  },
  {
   "cell_type": "markdown",
   "metadata": {
    "collapsed": false,
    "id": "G823cceuHqRv"
   },
   "source": [
    "The reason why strings are powerful for processing numbers digit by digit is because they can be accessed like lists."
   ]
  },
  {
   "cell_type": "code",
   "execution_count": 0,
   "metadata": {
    "colab": {
     "base_uri": "https://localhost:8080/"
    },
    "collapsed": false,
    "id": "VuYJEIrHHtvS",
    "outputId": "92e67438-8377-4c41-9443-19f5ddff9a4e"
   },
   "outputs": [
    {
     "name": "stdout",
     "output_type": "stream",
     "text": [
      "1 5 0 0 0 0\n"
     ]
    }
   ],
   "source": [
    "print(my_string[0], my_string[1], my_string[2], my_string[3], my_string[4], my_string[5])"
   ]
  },
  {
   "cell_type": "code",
   "execution_count": 0,
   "metadata": {
    "colab": {
     "base_uri": "https://localhost:8080/"
    },
    "collapsed": false,
    "id": "P2n9yz-9Hd-V",
    "outputId": "0d4f2a26-314b-4720-a4ef-6ecbcaffc2ed"
   },
   "outputs": [
    {
     "name": "stdout",
     "output_type": "stream",
     "text": [
      "1\n",
      "5\n",
      "0\n",
      "0\n",
      "0\n",
      "0\n"
     ]
    }
   ],
   "source": [
    "for i in range(len(my_string)):\n",
    "  print(my_string[i])"
   ]
  },
  {
   "cell_type": "markdown",
   "metadata": {
    "collapsed": false,
    "id": "MywCq7XjDo7z"
   },
   "source": [
    "## Step 1: Setting a four digit number\n",
    "For this step, our program needs to set a random 4-digit number for the user to guess. It would make sense that this number is any number inbetween 1000 and 9999 right? \n",
    "\n",
    "We recommend checking out how to get random numbers in python. Maybe a google search of \"Get a random number in a certain range python\" is a good start. You should set this number to a variable to save for later. If you are stuck, look back at our old projects"
   ]
  },
  {
   "cell_type": "code",
   "execution_count": 0,
   "metadata": {
    "collapsed": false,
    "id": "2IAA6A4ZnLXx"
   },
   "outputs": [
   ],
   "source": [
    "#get a four digit integer between 1000 and 9999 and set it to a variable.\n",
    "import random\n",
    "random.seed(0)\n",
    "x = random.randint(1000, 9999)\n",
    "print(x)"
   ]
  },
  {
   "cell_type": "markdown",
   "metadata": {
    "collapsed": false,
    "id": "yl0IqDTEEzHB"
   },
   "source": [
    "## Step 2: Get the user's guess\n",
    "\n",
    "The user is now going to try to guess the 4-digit number. You should get `input()` from the user and set their guess to an integer. \n",
    "\n",
    "If you run into issues, try to google how to get integer input from a user in python!\n",
    "\n"
   ]
  },
  {
   "cell_type": "code",
   "execution_count": 4,
   "metadata": {
    "cocalc": {
     "outputs": {
      "0": {
       "name": "input",
       "opts": {
        "password": false,
        "prompt": "Guess a 4 digit number: "
       },
       "output_type": "stream",
       "value": "1223"
      }
     }
    },
    "collapsed": false,
    "id": "djIIncFBFQ1_"
   },
   "outputs": [
    {
     "name": "stdout",
     "output_type": "stream",
     "text": "Guess a 4 digit number:  1223"
    },
    {
     "name": "stdout",
     "output_type": "stream",
     "text": [
      "1223\n"
     ]
    }
   ],
   "source": [
    "#prompt the user for input and set the guess to an integer.\n",
    "userguess = int(input(\"Guess a 4 digit number: \"))\n",
    "print(userguess)"
   ]
  },
  {
   "cell_type": "markdown",
   "metadata": {
    "collapsed": false,
    "id": "gxclhNPSFYdB"
   },
   "source": [
    "## Step 3: See if the user succeeds in first try\n",
    "\n",
    "In this part, we need to check `if` the user's guess is correct and equal to the random four-digit integer the computer generated.\n",
    "\n",
    "If the user's guess is correct, you should output something like: \n",
    "\n",
    "> \"Great! You only needed 1 try! You're a Mastermind!\"\n",
    "\n",
    "Else, then the computer hints by revealing which digits or numbers the user got correct.\n",
    "\n"
   ]
  },
  {
   "cell_type": "code",
   "execution_count": 26,
   "metadata": {
    "collapsed": false,
    "id": "ustwEFoqFkWO"
   },
   "outputs": [
    {
     "ename": "SyntaxError",
     "evalue": "invalid syntax (3532319739.py, line 13)",
     "output_type": "error",
     "traceback": [
      "\u001b[0;36m  Input \u001b[0;32mIn [26]\u001b[0;36m\u001b[0m\n\u001b[0;31m    for i in range(len(x))\u001b[0m\n\u001b[0m                          ^\u001b[0m\n\u001b[0;31mSyntaxError\u001b[0m\u001b[0;31m:\u001b[0m invalid syntax\n"
     ]
    }
   ],
   "source": [
    "#check if the user's guess is correct\n",
    "import random\n",
    "random.seed(0)\n",
    "x = random.randint(1000, 10000)\n",
    "count = 0:\n",
    "userguess = int(input(\"Guess a 4 digit number: \"))\n",
    "print(userguess)\n",
    "hint = \"0000\"\n",
    "while True:\n",
    "    if x == userguess:\n",
    "        print(\"Great! You only needed 1 try! You're a Mastermind!\")\n",
    "    else:\n",
    "        for i in range(len(x)):\n",
    "            if str(x[i]) == str(userguess[i]):\n",
    "                hint[i] = userguess[i]\n",
    "                print(\"You got it in\" + count + \"tries\")\n",
    "        #Otherwise, reveal which digits or numbers the user got correct - HINT: use string typecasting to determine which specific numbers are correct!"
   ]
  },
  {
   "cell_type": "markdown",
   "metadata": {
    "collapsed": false,
    "id": "pSDfXUdfGD1u"
   },
   "source": [
    "## Step 4: Continue in a loop.\n",
    "\n",
    "When our user is wrong, we need to let them guess again and keep a `count` of how many guesses they have used so far. We will keep looping until our user's guess is equal to the hidden number.\n",
    "\n",
    "For repetitive tasks in python, we usually use a `while` or a `for` loop. `While` loops continue executing code in a loop until a certain condition is met, and `for` loops typically are used for iterating across a piece of data. \n",
    "\n",
    "> DISCUSS: Discuss with your team and instructor which type of  loop would be better for this case.\n",
    "\n"
   ]
  },
  {
   "cell_type": "code",
   "execution_count": 31,
   "metadata": {
    "cocalc": {
     "outputs": {
      "0": {
       "name": "input",
       "opts": {
        "password": false,
        "prompt": "Guess a four digit number"
       },
       "output_type": "stream",
       "value": "1234"
      },
      "2": {
       "name": "input",
       "opts": {
        "password": false,
        "prompt": "Guess a four digit number"
       },
       "output_type": "stream",
       "value": "4567"
      },
      "4": {
       "name": "input",
       "opts": {
        "password": false,
        "prompt": "Guess a four digit number"
       },
       "output_type": "stream"
      }
     }
    },
    "collapsed": false,
    "id": "r7xV_F6pSiAS"
   },
   "outputs": [
    {
     "name": "stdout",
     "output_type": "stream",
     "text": "Guess a four digit number 1234"
    },
    {
     "name": "stdout",
     "output_type": "stream",
     "text": [
      "X X X X \n"
     ]
    },
    {
     "name": "stdout",
     "output_type": "stream",
     "text": "Guess a four digit number 4567"
    },
    {
     "name": "stdout",
     "output_type": "stream",
     "text": [
      "X X 67 7 \n"
     ]
    },
    {
     "name": "stdout",
     "output_type": "stream",
     "text": "Guess a four digit number "
    },
    {
     "ename": "KeyboardInterrupt",
     "evalue": "Interrupted by user",
     "output_type": "error",
     "traceback": [
      "\u001b[0;31m---------------------------------------------------------------------------\u001b[0m",
      "\u001b[0;31mKeyboardInterrupt\u001b[0m                         Traceback (most recent call last)",
      "Input \u001b[0;32mIn [31]\u001b[0m, in \u001b[0;36m<cell line: 9>\u001b[0;34m()\u001b[0m\n\u001b[1;32m      7\u001b[0m hint \u001b[38;5;241m=\u001b[39m \u001b[38;5;124m\"\u001b[39m\u001b[38;5;124m\"\u001b[39m\n\u001b[1;32m      8\u001b[0m \u001b[38;5;28;01mwhile\u001b[39;00m \u001b[38;5;28;01mTrue\u001b[39;00m:\n\u001b[0;32m----> 9\u001b[0m     guess \u001b[38;5;241m=\u001b[39m \u001b[38;5;28mint\u001b[39m(\u001b[38;5;28;43minput\u001b[39;49m\u001b[43m(\u001b[49m\u001b[38;5;124;43m\"\u001b[39;49m\u001b[38;5;124;43mGuess a four digit number\u001b[39;49m\u001b[38;5;124;43m\"\u001b[39;49m\u001b[43m)\u001b[49m)\n\u001b[1;32m     10\u001b[0m     \u001b[38;5;28;01mif\u001b[39;00m randNum \u001b[38;5;241m==\u001b[39m guess:\n\u001b[1;32m     11\u001b[0m         \u001b[38;5;28mprint\u001b[39m(\u001b[38;5;124m\"\u001b[39m\u001b[38;5;124mYou are a mastermind! You guessed the number in \u001b[39m\u001b[38;5;124m\"\u001b[39m \u001b[38;5;241m+\u001b[39m count \u001b[38;5;241m+\u001b[39m \u001b[38;5;124m\"\u001b[39m\u001b[38;5;124m guesses.\u001b[39m\u001b[38;5;124m\"\u001b[39m)\n",
      "File \u001b[0;32m~/miniconda3/lib/python3.9/site-packages/ipykernel/kernelbase.py:1075\u001b[0m, in \u001b[0;36mKernel.raw_input\u001b[0;34m(self, prompt)\u001b[0m\n\u001b[1;32m   1071\u001b[0m \u001b[38;5;28;01mif\u001b[39;00m \u001b[38;5;129;01mnot\u001b[39;00m \u001b[38;5;28mself\u001b[39m\u001b[38;5;241m.\u001b[39m_allow_stdin:\n\u001b[1;32m   1072\u001b[0m     \u001b[38;5;28;01mraise\u001b[39;00m StdinNotImplementedError(\n\u001b[1;32m   1073\u001b[0m         \u001b[38;5;124m\"\u001b[39m\u001b[38;5;124mraw_input was called, but this frontend does not support input requests.\u001b[39m\u001b[38;5;124m\"\u001b[39m\n\u001b[1;32m   1074\u001b[0m     )\n\u001b[0;32m-> 1075\u001b[0m \u001b[38;5;28;01mreturn\u001b[39;00m \u001b[38;5;28;43mself\u001b[39;49m\u001b[38;5;241;43m.\u001b[39;49m\u001b[43m_input_request\u001b[49m\u001b[43m(\u001b[49m\n\u001b[1;32m   1076\u001b[0m \u001b[43m    \u001b[49m\u001b[38;5;28;43mstr\u001b[39;49m\u001b[43m(\u001b[49m\u001b[43mprompt\u001b[49m\u001b[43m)\u001b[49m\u001b[43m,\u001b[49m\n\u001b[1;32m   1077\u001b[0m \u001b[43m    \u001b[49m\u001b[38;5;28;43mself\u001b[39;49m\u001b[38;5;241;43m.\u001b[39;49m\u001b[43m_parent_ident\u001b[49m\u001b[43m[\u001b[49m\u001b[38;5;124;43m\"\u001b[39;49m\u001b[38;5;124;43mshell\u001b[39;49m\u001b[38;5;124;43m\"\u001b[39;49m\u001b[43m]\u001b[49m\u001b[43m,\u001b[49m\n\u001b[1;32m   1078\u001b[0m \u001b[43m    \u001b[49m\u001b[38;5;28;43mself\u001b[39;49m\u001b[38;5;241;43m.\u001b[39;49m\u001b[43mget_parent\u001b[49m\u001b[43m(\u001b[49m\u001b[38;5;124;43m\"\u001b[39;49m\u001b[38;5;124;43mshell\u001b[39;49m\u001b[38;5;124;43m\"\u001b[39;49m\u001b[43m)\u001b[49m\u001b[43m,\u001b[49m\n\u001b[1;32m   1079\u001b[0m \u001b[43m    \u001b[49m\u001b[43mpassword\u001b[49m\u001b[38;5;241;43m=\u001b[39;49m\u001b[38;5;28;43;01mFalse\u001b[39;49;00m\u001b[43m,\u001b[49m\n\u001b[1;32m   1080\u001b[0m \u001b[43m\u001b[49m\u001b[43m)\u001b[49m\n",
      "File \u001b[0;32m~/miniconda3/lib/python3.9/site-packages/ipykernel/kernelbase.py:1120\u001b[0m, in \u001b[0;36mKernel._input_request\u001b[0;34m(self, prompt, ident, parent, password)\u001b[0m\n\u001b[1;32m   1117\u001b[0m             \u001b[38;5;28;01mbreak\u001b[39;00m\n\u001b[1;32m   1118\u001b[0m \u001b[38;5;28;01mexcept\u001b[39;00m \u001b[38;5;167;01mKeyboardInterrupt\u001b[39;00m:\n\u001b[1;32m   1119\u001b[0m     \u001b[38;5;66;03m# re-raise KeyboardInterrupt, to truncate traceback\u001b[39;00m\n\u001b[0;32m-> 1120\u001b[0m     \u001b[38;5;28;01mraise\u001b[39;00m \u001b[38;5;167;01mKeyboardInterrupt\u001b[39;00m(\u001b[38;5;124m\"\u001b[39m\u001b[38;5;124mInterrupted by user\u001b[39m\u001b[38;5;124m\"\u001b[39m) \u001b[38;5;28;01mfrom\u001b[39;00m \u001b[38;5;28mNone\u001b[39m\n\u001b[1;32m   1121\u001b[0m \u001b[38;5;28;01mexcept\u001b[39;00m \u001b[38;5;167;01mException\u001b[39;00m:\n\u001b[1;32m   1122\u001b[0m     \u001b[38;5;28mself\u001b[39m\u001b[38;5;241m.\u001b[39mlog\u001b[38;5;241m.\u001b[39mwarning(\u001b[38;5;124m\"\u001b[39m\u001b[38;5;124mInvalid Message:\u001b[39m\u001b[38;5;124m\"\u001b[39m, exc_info\u001b[38;5;241m=\u001b[39m\u001b[38;5;28;01mTrue\u001b[39;00m)\n",
      "\u001b[0;31mKeyboardInterrupt\u001b[0m: Interrupted by user"
     ]
    }
   ],
   "source": [
    "# Loop until the number guessed is equal to the hidden random number\n",
    "# in each loop, process the user's guess and reveal which digits or numbers the user got correct each round. \n",
    "import random\n",
    "\n",
    "randNum = random.randint(1000, 10000)\n",
    "count = 1\n",
    "hint = \"\"\n",
    "while True:\n",
    "    guess = int(input(\"Guess a four digit number\"))\n",
    "    if randNum == guess:\n",
    "        print(\"You are a mastermind! You guessed the number in \" + str(count) + \" guesses.\")\n",
    "        break\n",
    "    if (randNum - randNum%1000)/1000 == (guess - guess%1000)/1000:\n",
    "        hint += str(int((randNum - randNum%1000)/1000)) + \" \"\n",
    "    else:\n",
    "        hint += \"X \"\n",
    "    if (randNum%1000 - randNum%100)/100 == (guess%1000 - guess%100)/100:\n",
    "        hint += str(randNum%1000) + \" \"\n",
    "    else:\n",
    "        hint += \"X \"\n",
    "    if (randNum%100 - randNum%10)/10 == (guess%100 - guess%10)/10:\n",
    "        hint += str(randNum%100) + \" \"\n",
    "    else:\n",
    "        hint += \"X \"\n",
    "    if randNum%10 == guess%10:\n",
    "        hint += str(randNum%10) + \" \"\n",
    "    else:\n",
    "        hint += \"X \"\n",
    "    print(hint)\n",
    "    hint = \"\"\n",
    "    count += 1"
   ]
  },
  {
   "cell_type": "markdown",
   "metadata": {
    "collapsed": false,
    "id": "MO1CHHGrSjHn"
   },
   "source": [
    "## Put it all together\n",
    "\n",
    "Combine all of your code from the previous steps below to make one smooth running program that will let a user play mastermind!\n",
    "\n"
   ]
  },
  {
   "cell_type": "code",
   "execution_count": 50,
   "metadata": {
    "collapsed": false,
    "id": "28KLAYM7SlPC"
   },
   "outputs": [
    {
     "ename": "IndentationError",
     "evalue": "expected an indented block (3958555372.py, line 52)",
     "output_type": "error",
     "traceback": [
      "\u001b[0;36m  Input \u001b[0;32mIn [50]\u001b[0;36m\u001b[0m\n\u001b[0;31m    def mastermind_Solution3():\u001b[0m\n\u001b[0m                               ^\u001b[0m\n\u001b[0;31mIndentationError\u001b[0m\u001b[0;31m:\u001b[0m expected an indented block\n"
     ]
    }
   ],
   "source": [
    "# Solution: Placement does matter\n",
    "\n",
    "import random\n",
    "\n",
    "    randNum = random.randint(1000, 10000)\n",
    "    count = 1\n",
    "    hint = \"\"\n",
    "    while True:\n",
    "        guess = int(input(\"Guess a four digit number\"))\n",
    "        if randNum == guess:\n",
    "            print(\"You are a mastermind! You guessed the number in \", str(count), \" guesses.\")\n",
    "            break\n",
    "        if (randNum - randNum%1000)/1000 == (guess - guess%1000)/1000:\n",
    "            hint += str(int((randNum - randNum%1000)/1000)) + \" \"\n",
    "        else:\n",
    "            hint += \"X \"\n",
    "        if (randNum%1000 - randNum%100)/100 == (guess%1000 - guess%100)/100:\n",
    "            hint += str(randNum%1000) + \" \"\n",
    "        else:\n",
    "            hint += \"X \"\n",
    "        if (randNum%100 - randNum%10)/10 == (guess%100 - guess%10)/10:\n",
    "            hint += str(randNum%100) + \" \"\n",
    "        else:\n",
    "            hint += \"X \"\n",
    "        if randNum%10 == guess%10:\n",
    "            hint += str(randNum%10) + \" \"\n",
    "        else:\n",
    "            hint += \"X \"\n",
    "        print(hint)\n",
    "        hint = \"\"\n",
    "        count += 1\n",
    "        \n",
    "def mastermind_Solution2():\n",
    "    win = False\n",
    "    num = random.randint(1000, 10000)\n",
    "    randNum = str(num)\n",
    "    count = 0\n",
    "    hint = \"XXXX\"\n",
    "    while not win:\n",
    "        guess = str(input(\"Guess a four digit number\"))\n",
    "        count += 1\n",
    "        if randNum == guess:\n",
    "            print(\"You are a mastermind! You guessed the number in \", str(count),\" guesses.\")\n",
    "            win = True\n",
    "\n",
    "        else:\n",
    "            for i in range (0,4):\n",
    "                if str(guess[i]) == str(randNum[i]):\n",
    "                    rand = str(randNum)\n",
    "                    hint = hint[:i] + randNum[i] + hint[i+1:]\n",
    "            print(\"Hint: \" + hint)\n",
    "            \n"
   ]
  },
  {
   "cell_type": "code",
   "execution_count": 0,
   "metadata": {
    "collapsed": false
   },
   "outputs": [
   ],
   "source": [
    "\n",
    "# Simple solution\n",
    "count, v= 7, 0\n",
    "np.random.seed(41) \n",
    "number = random.randint(1000, 9999)\n",
    "print(number)\n",
    "for c in range(count):\n",
    "    userguess = input()\n",
    "    user = int(userguess)\n",
    "    print('guess:', user)\n",
    "    \n",
    "    if user == number:\n",
    "        print('Great! You got it right!')\n",
    "    else:\n",
    "        print('lol')\n",
    "        number_string = str(number)\n",
    "        user_string = str(user)\n",
    "        for i in range(3):\n",
    "            if number_string[i] == user_string[i]:\n",
    "                print('Your guess', number_string[i], 'at position', i + 1, 'was correct!')\n",
    "                v=1\n",
    "            elif number_string[i] in user_string:\n",
    "                print('Your guess', number_string[i], 'is correct but placed wrong')\n",
    "                v=1\n",
    "            elif v==0:\n",
    "                print('Completly wrong answer')\n",
    "        c += 1\n",
    "        print('You have',7 - c,'tries left')"
   ]
  },
  {
   "cell_type": "code",
   "execution_count": 0,
   "metadata": {
    "collapsed": false
   },
   "outputs": [
   ],
   "source": [
    "import random\n",
    "\n",
    "\n",
    "# the .randrange() function generates a\n",
    "# random number within the specified range.\n",
    "num = random.randrange(1000, 10000)\n",
    "print(num)\n",
    "n = int(input(\"Guess the 4 digit number:\"))\n",
    "\n",
    "# condition to test equality of the\n",
    "# guess made. Program terminates if true.\n",
    "if (n == num):\n",
    "\tprint(\"Great! You guessed the number in just 1 try! You're a Mastermind!\")\n",
    "else:\n",
    "\t# ctr variable initialized. It will keep count of\n",
    "\t# the number of tries the Player takes to guess the number.\n",
    "\tctr = 0\n",
    "\n",
    "\t# while loop repeats as long as the\n",
    "\t# Player fails to guess the number correctly.\n",
    "\twhile (n != num):\n",
    "\t\t# variable increments every time the loop\n",
    "\t\t# is executed, giving an idea of how many\n",
    "\t\t# guesses were made.\n",
    "\t\tctr += 1\n",
    "\n",
    "\t\tcount = 0\n",
    "\n",
    "\t\t# explicit type conversion of an integer to\n",
    "\t\t# a string in order to ease extraction of digits\n",
    "\t\tn = str(n)\n",
    "\n",
    "\t\t# explicit type conversion of a string to an integer\n",
    "\t\tnum = str(num)\n",
    "\n",
    "\t\t# correct[] list stores digits which are correct\n",
    "\t\tcorrect = ['X']*4\n",
    "\n",
    "\t\t# for loop runs 4 times since the number has 4 digits.\n",
    "\t\tfor i in range(0, 4):\n",
    "\n",
    "\t\t\t# checking for equality of digits\n",
    "\t\t\tif (n[i] == num[i]):\n",
    "\t\t\t\t# number of digits guessed correctly increments\n",
    "\t\t\t\tcount += 1\n",
    "\t\t\t\t# hence, the digit is stored in correct[].\n",
    "\t\t\t\tcorrect[i] = n[i]\n",
    "\t\t\telse:\n",
    "\t\t\t\tcontinue\n",
    "\n",
    "\t\t# when not all the digits are guessed correctly.\n",
    "\t\tif (count < 4) and (count != 0):\n",
    "\t\t\tprint(\"Not quite the number. But you did get \", count, \" digit(s) correct!\")\n",
    "\t\t\tprint(\"Also these numbers in your input were correct.\")\n",
    "\t\t\tfor k in correct:\n",
    "\t\t\t\tprint(k, end=' ')\n",
    "\t\t\tprint('\\n')\n",
    "\t\t\tprint('\\n')\n",
    "\t\t\tn = int(input(\"Enter your next choice of numbers: \"))\n",
    "\n",
    "\t\t# when none of the digits are guessed correctly.\n",
    "\t\telif (count == 0):\n",
    "\t\t\tprint(\"None of the numbers in your input match.\")\n",
    "\t\t\tn = int(input(\"Enter your next choice of numbers: \"))\n",
    "\n",
    "\t# condition for equality.\n",
    "\tif n == num:\n",
    "\t\tprint(\"You've become a Mastermind!\")\n",
    "\t\tprint(\"It took you only\", ctr, \"tries.\")\n"
   ]
  },
  {
   "cell_type": "code",
   "execution_count": 57,
   "metadata": {
    "cocalc": {
     "outputs": {
      "1": {
       "name": "input",
       "opts": {
        "password": false,
        "prompt": ""
       },
       "output_type": "stream",
       "value": "1234"
      },
      "3": {
       "name": "input",
       "opts": {
        "password": false,
        "prompt": ""
       },
       "output_type": "stream",
       "value": "5678"
      },
      "5": {
       "name": "input",
       "opts": {
        "password": false,
        "prompt": ""
       },
       "output_type": "stream",
       "value": "9012"
      },
      "7": {
       "name": "input",
       "opts": {
        "password": false,
        "prompt": ""
       },
       "output_type": "stream",
       "value": "7890"
      },
      "9": {
       "name": "input",
       "opts": {
        "password": false,
        "prompt": ""
       },
       "output_type": "stream",
       "value": "1017"
      }
     }
    },
    "collapsed": false
   },
   "outputs": [
    {
     "name": "stdout",
     "output_type": "stream",
     "text": [
      "1017\n",
      "Enter a 4 digit number\n"
     ]
    },
    {
     "name": "stdout",
     "output_type": "stream",
     "text": " 1234"
    },
    {
     "name": "stdout",
     "output_type": "stream",
     "text": [
      "\n",
      "1XXX\n",
      "Enter a 4 digit number\n"
     ]
    },
    {
     "name": "stdout",
     "output_type": "stream",
     "text": " 5678"
    },
    {
     "name": "stdout",
     "output_type": "stream",
     "text": [
      "\n",
      "1XXX\n",
      "Enter a 4 digit number\n"
     ]
    },
    {
     "name": "stdout",
     "output_type": "stream",
     "text": " 9012"
    },
    {
     "name": "stdout",
     "output_type": "stream",
     "text": [
      "\n",
      "101X\n",
      "Enter a 4 digit number\n"
     ]
    },
    {
     "name": "stdout",
     "output_type": "stream",
     "text": " 7890"
    },
    {
     "name": "stdout",
     "output_type": "stream",
     "text": [
      "\n",
      "1010\n",
      "Enter a 4 digit number\n"
     ]
    },
    {
     "name": "stdout",
     "output_type": "stream",
     "text": " 1017"
    },
    {
     "name": "stdout",
     "output_type": "stream",
     "text": [
      "You are a Mastermind. It took you 5 tries to beat the game\n"
     ]
    }
   ],
   "source": [
    "import random\n",
    "\n",
    "\n",
    "def main():\n",
    "    number = random.randint(1000, 10000)\n",
    "    num = \"\" + str(number) + \"\"\n",
    "    win = False\n",
    "    count = 0\n",
    "    guess = None\n",
    "    print(num)\n",
    "    l = 'X'\n",
    "    l1 = 'X'\n",
    "    l2 = 'X'\n",
    "    l3 = 'X'\n",
    "    hint = \"XXXX\"\n",
    "    while (win == False):\n",
    "        print(\"Enter a 4 digit number\")\n",
    "        guess = input()\n",
    "        if (guess == num):\n",
    "            count += 1\n",
    "            print(\"You are a Mastermind. It took you \" + str(count) +\n",
    "                  \" tries to beat the game\")\n",
    "            win = True\n",
    "        else:\n",
    "            i = 0\n",
    "            while (i < 3):\n",
    "                if (guess[0] == num[i]):\n",
    "                    l = guess[0]\n",
    "                elif (guess[1] == num[i]):\n",
    "                    l1 = guess[1]\n",
    "                elif (guess[2] == num[i]):\n",
    "                    l2 = guess[2]\n",
    "                elif (guess[3] == num[i]):\n",
    "                    l3 = guess[3]\n",
    "                i += 1\n",
    "            #hint[0] = l\n",
    "            #hint[1] = l1\n",
    "            #hint[2] = l2\n",
    "            #hint[3] = l3\n",
    "            print(\"\\n\" + str(l) + \"\" + str(l1) + \"\" + str(l2) + \"\" + str(l3))\n",
    "            count += 1\n",
    "\n",
    "\n",
    "main()"
   ]
  },
  {
   "cell_type": "code",
   "execution_count": 0,
   "metadata": {
    "collapsed": false
   },
   "outputs": [
   ],
   "source": [
    "# Final Solution: Placement Doesn't Matter\n",
    "\n",
    "import random\n",
    "\n",
    "random.seed(0)\n",
    "num = random.randint(1000, 10000)\n",
    "randNums = [int(x) for x in str(num)]\n",
    "print(num)\n",
    "count = 0\n",
    "\n",
    "hint = \"XXXX\"\n",
    "while True:\n",
    "  userguess = int(input(\"Guess a 4 digit number: \"))\n",
    "  guessNums = [int(x) for x in str(userguess)]\n",
    "  count += 1\n",
    "  if num == userguess:\n",
    "      print(\"Great! You only needed\", count, \"tries! You're a Mastermind!\")\n",
    "      break\n",
    "  else:\n",
    "    similar_numbers = []\n",
    "    order = []\n",
    "    randNumsCopy = randNums\n",
    "    # If you do a nested for loop, the similar numbers will return [1, 1] when the guess is 1000 and random number 7311. This isn't wanted. This is equivalent of this method but all if's instead of if/elif.\n",
    "    # If we check if sets, the similar numbers will return [1] when the guess is 1100 and the random number 7311. This is because converting to a set deletes all duplicate items.\n",
    "    # Using this method, it will make sure that all numbers in the guess will be matched up to only ONE number in the random number, if there is any. This prevents a single 1 being read as two similar 1's (nested for loop), or two common one's being only read as single 1 (set method).\n",
    "    for x in guessNums:\n",
    "      if x == randNums[0]: similar_numbers.append(x)\n",
    "      elif x == randNums[1]: similar_numbers.append(x)\n",
    "      elif x == randNums[2]: similar_numbers.append(x)\n",
    "      elif x == randNums[3]: similar_numbers.append(x)\n",
    "    # If there are are duplicate digits in a number (ex. 7311), then even if the user inputs 1100 and similar_numbers read [1, 1] the order will only have the index for a single one. Thus, once a index for a number is found, we set it to a dummy value so another digit in a later place can have its turn to be checked of its index.\n",
    "    for x in similar_numbers:\n",
    "      order.append(randNumsCopy.index(x))\n",
    "      randNumsCopy = randNumsCopy[:randNums.index(x)] + [\"something\"] + randNumsCopy[randNums.index(x)+1:]\n",
    "    # Slice up the hint in order to add the common digits and delete the X\n",
    "    for x in range(len(order)):\n",
    "      hint = hint[:order[x]] + str(randNums[order[x]]) + hint[order[x]+1:]\n",
    "    print(hint)"
   ]
  },
  {
   "cell_type": "markdown",
   "metadata": {
    "collapsed": false
   },
   "source": [
    "If you want to go further, you can find the next instructions here - https://www.geeksforgeeks.org/mastermind-game-using-python/\n",
    "\n"
   ]
  }
 ],
 "metadata": {
  "colab": {
   "name": "Mastermind.ipynb",
   "provenance": [
   ]
  },
  "kernelspec": {
   "display_name": "Python (cv_env)",
   "language": "python",
   "metadata": {
    "debugger": true
   },
   "name": "cv_env",
   "resource_dir": "/projects/f7fa2993-872e-407d-a554-25861b23781f/.local/share/jupyter/kernels/cv_env"
  },
  "language_info": {
   "name": "python"
  }
 },
 "nbformat": 4,
 "nbformat_minor": 4
}