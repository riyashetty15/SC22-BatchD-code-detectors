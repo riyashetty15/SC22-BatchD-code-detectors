{
 "cells": [
  {
   "cell_type": "code",
   "execution_count": 1,
   "metadata": {
    "collapsed": false
   },
   "outputs": [
    {
     "name": "stdout",
     "output_type": "stream",
     "text": [
      "Processing ./.cache/pip/wheels/ea/58/9e/3d89ebff948ef9ce0a6e056a8279c1f93c76993387766f8387/google_search_results-2.4.1-py3-none-any.whl\r\n"
     ]
    },
    {
     "name": "stdout",
     "output_type": "stream",
     "text": [
      "Requirement already satisfied: requests in /usr/lib/python3/dist-packages (from google-search-results) (2.22.0)\r\n"
     ]
    },
    {
     "name": "stdout",
     "output_type": "stream",
     "text": [
      "Installing collected packages: google-search-results\r\n"
     ]
    },
    {
     "name": "stdout",
     "output_type": "stream",
     "text": [
      "Successfully installed google-search-results-2.4.1\r\n"
     ]
    }
   ],
   "source": [
    "!pip3 install google-search-results"
   ]
  },
  {
   "cell_type": "code",
   "execution_count": 9,
   "metadata": {
    "collapsed": false,
    "scrolled": true
   },
   "outputs": [
    {
     "name": "stderr",
     "output_type": "stream",
     "text": [
      "WARNING: Some output was deleted.\n"
     ]
    }
   ],
   "source": [
    "from serpapi import GoogleSearch\n",
    "import os, urllib.request, json # json for pretty output\n",
    "from serpapi import GoogleSearch\n",
    "import urllib.request\n",
    "import ssl\n",
    "ssl._create_default_https_context = ssl._create_unverified_context\n",
    "params = {\n",
    "    \"api_key\":\"f9ce18a11d665efb1c297bf1fdc9ab4346e07969879ad4a3376d3530b95448a9\",\n",
    "    \"engine\":\n",
    "\"google\",\n",
    "    \n",
    "\"q\":\n",
    "\"sniper rifles\",\n",
    "\"location_requested\":\n",
    "\"United States\",\n",
    "\"location_used\":\n",
    "\"United States\",\n",
    "\"google_domain\":\n",
    "\"google.com\",\n",
    "\"hl\":\n",
    "\"en\",\n",
    "\"gl\":\n",
    "\"us\",\n",
    "\"device\":\n",
    "\"desktop\",\n",
    "\"tbm\":\n",
    "\"isch\"\n",
    "\n",
    "}\n",
    "\n",
    "search = GoogleSearch(params)\n",
    "results = search.get_dict()\n",
    "images_results = results[\"images_results\"]       # where data extraction happens\n",
    "print(images_results)\n",
    "\n",
    "print(json.dumps(results['images_results'], indent=2, ensure_ascii=False))\n",
    "    # -----------------------\n",
    "    # Downloading images\n",
    "for index, image in enumerate(results[\"images_results\"], start=1):\n",
    "        print(f\"Downloading {index} image...\")\n",
    "        \n",
    "        opener=urllib.request.build_opener()\n",
    "        opener.addheaders=[(\"User-Agent\",\"Mozilla/5.0 (Windows NT 10.0; Win64; x64) AppleWebKit/537.36 (KHTML, like Gecko) Chrome/103.0.5060.114 Safari/537.36\")]\n",
    "        urllib.request.install_opener(opener)\n",
    "\n",
    "        urllib.request.urlretrieve(image[\"original\"], f\"Images{index}.jpg\")\n"
   ]
  },
  {
   "cell_type": "code",
   "execution_count": 9,
   "metadata": {
    "collapsed": false,
    "scrolled": true
   },
   "outputs": [
    {
     "name": "stdout",
     "output_type": "stream",
     "text": [
      "https://serpapi.com/search\n"
     ]
    },
    {
     "name": "stderr",
     "output_type": "stream",
     "text": [
      "WARNING: Some output was deleted.\n"
     ]
    }
   ],
   "source": [
    "from serpapi import GoogleSearch\n",
    "import os, urllib.request, json # json for pretty output\n",
    "from serpapi import GoogleSearch\n",
    "import urllib.request\n",
    "import ssl\n",
    "\n",
    "dir = os.path.join(\"Folder\")\n",
    "if not os.path.exists(dir):\n",
    "    os.mkdir(dir)\n",
    "\n"
   ]
  },
  {
   "cell_type": "code",
   "execution_count": 8,
   "metadata": {
    "collapsed": false,
    "scrolled": true
   },
   "outputs": [
    {
     "name": "stdout",
     "output_type": "stream",
     "text": [
      "https://serpapi.com/search\n"
     ]
    },
    {
     "name": "stderr",
     "output_type": "stream",
     "text": [
      "WARNING: Some output was deleted.\n"
     ]
    }
   ],
   "source": [
    "from serpapi import GoogleSearch\n",
    "import os, urllib.request, json # json for pretty output\n",
    "from serpapi import GoogleSearch\n",
    "import urllib.request\n",
    "import ssl\n",
    "ssl._create_default_https_context = ssl._create_unverified_context\n",
    "params = {\n",
    "  \"api_key\": \"e1cb962693a58a4834a4fe8c005c8f1e97114d03797c81e3e8cdf1110633b2c4\",\n",
    " \"engine\":\n",
    "\"google\",\n",
    "\"q\":\n",
    "\"pocket knife images\",\n",
    "\"location_requested\":\n",
    "\"United States\",\n",
    "\"location_used\":\n",
    "\"United States\",\n",
    "\"google_domain\":\n",
    "\"google.com\",\n",
    "\"hl\":\n",
    "\"en\",\n",
    "\"gl\":\n",
    "\"us\",\n",
    "\"device\":\n",
    "\"desktop\",\n",
    "\"tbm\":\n",
    "\"isch\"\n",
    "}\n",
    "\n",
    "search = GoogleSearch(params)\n",
    "results = search.get_dict()\n",
    "images_results = results['images_results']       # where data extraction happens\n",
    "print(images_results)\n",
    "\n",
    "print(json.dumps(results['images_results'], indent=2, ensure_ascii=False))\n",
    "    # -----------------------\n",
    "    # Downloading images\n",
    "for index, image in enumerate(results[\"images_results\"], start=1):\n",
    "        print(f\"Downloading {index} image...\")\n",
    "        \n",
    "        opener=urllib.request.build_opener()\n",
    "        opener.addheaders=[(\"User-Agent\",\"Mozilla/5.0 (Windows NT 10.0; Win64; x64) AppleWebKit/537.36 (KHTML, like Gecko) Chrome/103.0.5060.114 Safari/537.36\")]\n",
    "        urllib.request.install_opener(opener)\n",
    "\n",
    "        urllib.request.urlretrieve(image[\"original\"], f\"Images{index}.jpg\")"
   ]
  },
  {
   "cell_type": "code",
   "execution_count": 13,
   "metadata": {
    "collapsed": false
   },
   "outputs": [
    {
     "ename": "SyntaxError",
     "evalue": "invalid syntax (694008170.py, line 9)",
     "output_type": "error",
     "traceback": [
      "\u001b[0;36m  Input \u001b[0;32mIn [13]\u001b[0;36m\u001b[0m\n\u001b[0;31m    \"engine\":\u001b[0m\n\u001b[0m            ^\u001b[0m\n\u001b[0;31mSyntaxError\u001b[0m\u001b[0;31m:\u001b[0m invalid syntax\n"
     ]
    }
   ],
   "source": [
   ]
  },
  {
   "cell_type": "code",
   "execution_count": 1,
   "metadata": {
    "collapsed": false,
    "scrolled": true
   },
   "outputs": [
    {
     "name": "stdout",
     "output_type": "stream",
     "text": [
      "https://serpapi.com/search\n"
     ]
    },
    {
     "name": "stderr",
     "output_type": "stream",
     "text": [
      "WARNING: Some output was deleted.\n"
     ]
    }
   ],
   "source": [
    "from serpapi import GoogleSearch\n",
    "import os, urllib.request, json # json for pretty output\n",
    "from serpapi import GoogleSearch\n",
    "import urllib.request\n",
    "import ssl\n",
    "ssl._create_default_https_context = ssl._create_unverified_context\n",
    "params = {\n",
    "    \"api_key\": \"e1cb962693a58a4834a4fe8c005c8f1e97114d03797c81e3e8cdf1110633b2c4\",\n",
    "    \"engine\":\n",
    "\"google\",\n",
    "\"q\":\n",
    "\"pocket knives\",\n",
    "\"location_requested\":\n",
    "\"United States\",\n",
    "\"location_used\":\n",
    "\"United States\",\n",
    "\"google_domain\":\n",
    "\"google.com\",\n",
    "\"hl\":\n",
    "\"en\",\n",
    "\"gl\":\n",
    "\"us\",\n",
    "\"device\":\n",
    "\"desktop\",\n",
    "\"tbm\":\n",
    "\"isch\"\n",
    "}\n",
    "\n",
    "search = GoogleSearch(params)\n",
    "results = search.get_dict()\n",
    "images_results = results['images_results']       # where data extraction happens\n",
    "print(images_results)\n",
    "\n",
    "print(json.dumps(results['images_results'], indent=2, ensure_ascii=False))\n",
    "    # -----------------------\n",
    "    # Downloading images\n",
    "for index, image in enumerate(results[\"images_results\"], start=1):\n",
    "        print(f\"Downloading {index} image...\")\n",
    "        opener=urllib.request.build_opener()\n",
    "        opener.addheaders=[(\"User-Agent\",\"Mozilla/5.0 (Windows NT 10.0; Win64; x64) AppleWebKit/537.36 (KHTML, like Gecko) Chrome/103.0.5060.114 Safari/537.36\")]\n",
    "        urllib.request.install_opener(opener)\n",
    "\n",
    "        urllib.request.urlretrieve(image[\"original\"], f\"Images{index}.jpg\")"
   ]
  },
  {
   "cell_type": "code",
   "execution_count": 16,
   "metadata": {
    "collapsed": false,
    "scrolled": true
   },
   "outputs": [
    {
     "name": "stdout",
     "output_type": "stream",
     "text": [
      "https://serpapi.com/search\n"
     ]
    },
    {
     "name": "stderr",
     "output_type": "stream",
     "text": [
      "WARNING: Some output was deleted.\n"
     ]
    }
   ],
   "source": [
    "from serpapi import GoogleSearch\n",
    "import os, urllib.request, json # json for pretty output\n",
    "from serpapi import GoogleSearch\n",
    "import urllib.request\n",
    "import ssl\n",
    "ssl._create_default_https_context = ssl._create_unverified_context\n",
    "params = {\n",
    "    \"api_key\": \"f9ce18a11d665efb1c297bf1fdc9ab4346e07969879ad4a3376d3530b95448a9\",\n",
    "\"engine\":\n",
    "\"google\",\n",
    "\"q\":\n",
    "\"sniper rifles\",\n",
    "\"location_requested\":\n",
    "\"United States\",\n",
    "\"location_used\":\n",
    "\"United States\",\n",
    "\"google_domain\":\n",
    "\"google.com\",\n",
    "\"hl\":\n",
    "\"en\",\n",
    "\"gl\":\n",
    "\"us\",\n",
    "\"device\":\n",
    "\"desktop\",\n",
    "\"tbm\":\n",
    "\"isch\"\n",
    "}\n",
    "\n",
    "search = GoogleSearch(params)\n",
    "results = search.get_dict()\n",
    "images_results = results['images_results']       # where data extraction happens\n",
    "print(images_results)\n",
    "\n",
    "print(json.dumps(results['images_results'], indent=2, ensure_ascii=False))\n",
    "    # -----------------------\n",
    "    # Downloading images\n",
    "for index, image in enumerate(results[\"images_results\"], start=1):\n",
    "        print(f\"Downloading {index} image...\")\n",
    "        opener=urllib.request.build_opener()\n",
    "        opener.addheaders=[(\"User-Agent\",\"Mozilla/5.0 (Windows NT 10.0; Win64; x64) AppleWebKit/537.36 (KHTML, like Gecko) Chrome/103.0.5060.114 Safari/537.36\")]\n",
    "        urllib.request.install_opener(opener)\n",
    "\n",
    "        urllib.request.urlretrieve(image[\"original\"], f\"Images{index}.jpg\")"
   ]
  },
  {
   "cell_type": "code",
   "execution_count": 0,
   "metadata": {
    "collapsed": false
   },
   "outputs": [
   ],
   "source": [
   ]
  }
 ],
 "metadata": {
  "kernelspec": {
   "display_name": "Python (cv_env)",
   "language": "python",
   "metadata": {
    "debugger": true
   },
   "name": "cv_env",
   "resource_dir": "/projects/f7fa2993-872e-407d-a554-25861b23781f/.local/share/jupyter/kernels/cv_env"
  },
  "language_info": {
   "codemirror_mode": {
    "name": "ipython",
    "version": 3
   },
   "file_extension": ".py",
   "mimetype": "text/x-python",
   "name": "python",
   "nbconvert_exporter": "python",
   "pygments_lexer": "ipython3",
   "version": "3.9.12"
  }
 },
 "nbformat": 4,
 "nbformat_minor": 4
}